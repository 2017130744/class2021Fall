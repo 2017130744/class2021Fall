{
  "nbformat": 4,
  "nbformat_minor": 0,
  "metadata": {
    "colab": {
      "name": "test.ipynb",
      "provenance": [],
      "authorship_tag": "ABX9TyOVHdZs2bbsKHd/qsrq/EKa",
      "include_colab_link": true
    },
    "kernelspec": {
      "name": "python3",
      "display_name": "Python 3"
    },
    "language_info": {
      "name": "python"
    }
  },
  "cells": [
    {
      "cell_type": "markdown",
      "metadata": {
        "id": "view-in-github",
        "colab_type": "text"
      },
      "source": [
        "<a href=\"https://colab.research.google.com/github/2017130744/class2021Fall/blob/main/test.ipynb\" target=\"_parent\"><img src=\"https://colab.research.google.com/assets/colab-badge.svg\" alt=\"Open In Colab\"/></a>"
      ]
    },
    {
      "cell_type": "markdown",
      "metadata": {
        "id": "vCa3CGlr8xuP"
      },
      "source": [
        "제일 **처음** 해보는 코딩입니다. \n"
      ]
    },
    {
      "cell_type": "code",
      "metadata": {
        "colab": {
          "base_uri": "https://localhost:8080/"
        },
        "id": "X5Mthg8888vG",
        "outputId": "b0fa430b-200e-46fc-a769-84217df15ea7"
      },
      "source": [
        "a = 1\n",
        "b = 'hello'\n",
        "c = 1.1\n",
        "d = [1, 'ghel', 2.1]\n",
        "\n",
        "#print(a)\n",
        "#print(b)\n",
        "\n",
        "print (a)\n",
        "print (b)\n",
        "print (c)\n",
        "print (d)"
      ],
      "execution_count": 14,
      "outputs": [
        {
          "output_type": "stream",
          "name": "stdout",
          "text": [
            "1\n",
            "hello\n",
            "1.1\n",
            "[1, 'ghel', 2.1]\n"
          ]
        }
      ]
    },
    {
      "cell_type": "code",
      "metadata": {
        "colab": {
          "base_uri": "https://localhost:8080/"
        },
        "id": "ENevA8fm8844",
        "outputId": "d4041be5-0ce2-4ce8-8b30-edc59c90ffd3"
      },
      "source": [
        "print(type(d))"
      ],
      "execution_count": 13,
      "outputs": [
        {
          "output_type": "stream",
          "name": "stdout",
          "text": [
            "<class 'list'>\n"
          ]
        }
      ]
    },
    {
      "cell_type": "code",
      "metadata": {
        "id": "YHGprXFI81ST"
      },
      "source": [
        ""
      ],
      "execution_count": null,
      "outputs": []
    }
  ]
}